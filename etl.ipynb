{
 "cells": [
  {
   "cell_type": "code",
   "execution_count": 7,
   "id": "c10614ab-9607-4465-a73a-4c8217e8668e",
   "metadata": {
    "execution": {
     "iopub.execute_input": "2022-03-07T14:42:08.709875Z",
     "iopub.status.busy": "2022-03-07T14:42:08.709620Z",
     "iopub.status.idle": "2022-03-07T14:42:09.028828Z",
     "shell.execute_reply": "2022-03-07T14:42:09.027238Z",
     "shell.execute_reply.started": "2022-03-07T14:42:08.709846Z"
    },
    "tags": []
   },
   "outputs": [
    {
     "data": {
      "application/vnd.jupyter.widget-view+json": {
       "model_id": "fc0a2b00cde148f08dc9c8b25fac1957",
       "version_major": 2,
       "version_minor": 0
      },
      "text/plain": [
       "VBox()"
      ]
     },
     "metadata": {},
     "output_type": "display_data"
    },
    {
     "data": {
      "application/vnd.jupyter.widget-view+json": {
       "model_id": "",
       "version_major": 2,
       "version_minor": 0
      },
      "text/plain": [
       "FloatProgress(value=0.0, bar_style='info', description='Progress:', layout=Layout(height='25px', width='50%'),…"
      ]
     },
     "metadata": {},
     "output_type": "display_data"
    }
   ],
   "source": [
    "# import configparser\n",
    "from datetime import datetime\n",
    "import os\n",
    "from pyspark.sql import SparkSession, Window\n",
    "from pyspark.sql.functions import udf, col, row_number\n",
    "from pyspark.sql.functions import year, month, dayofmonth, hour, weekofyear, date_format\n",
    "from pyspark.sql.types import TimestampType\n",
    "\n",
    "\n",
    "# config = configparser.ConfigParser()\n",
    "# config.read('dl.cfg')\n",
    "\n",
    "# os.environ['AWS_ACCESS_KEY_ID']=config['AWS_ACCESS_KEY_ID']\n",
    "# os.environ['AWS_SECRET_ACCESS_KEY']=config['AWS_SECRET_ACCESS_KEY']\n",
    "\n",
    "\n",
    "def create_spark_session():\n",
    "    spark = SparkSession \\\n",
    "        .builder \\\n",
    "        .config(\"spark.jars.packages\", \"org.apache.hadoop:hadoop-aws:2.7.0\") \\\n",
    "        .getOrCreate()\n",
    "    return spark\n",
    "\n",
    "\n",
    "def process_song_data(spark, input_data, output_data):\n",
    "    # get filepath to song data file\n",
    "    song_data = '{}/song_data/*/*/*/*'.format(input_data)\n",
    "    \n",
    "    # read song data file\n",
    "    df = spark.read.json(song_data)\n",
    "\n",
    "    # extract columns to create songs table\n",
    "    songs_table = df.select('song_id', 'title', 'artist_id', 'year', 'duration') \\\n",
    "                    .withColumn('year', col('year').cast('int')) \\\n",
    "                    .dropDuplicates()\n",
    "    \n",
    "    # write songs table to parquet files partitioned by year and artist\n",
    "    songs_table.write.parquet(path='{}/songs'.format(output_data), mode='overwrite', partitionBy=['year', 'artist_id'])\n",
    "\n",
    "    # extract columns to create artists table\n",
    "    artists_table = df.select(col('artist_id'), \\\n",
    "                          col('artist_name').alias('name'), \\\n",
    "                          col('artist_location').alias('location'), \\\n",
    "                          col('artist_latitude').alias('latitude'), \\\n",
    "                          col('artist_longitude').alias('longitude')) \\\n",
    "                    .dropDuplicates()\n",
    "    \n",
    "    # write artists table to parquet files\n",
    "    artists_table.write.parquet(path='{}/artists'.format(output_data), mode='overwrite')\n",
    "\n",
    "\n",
    "def process_log_data(spark, input_data, output_data):\n",
    "    # get filepath to log data file\n",
    "    log_data = '{}/log_data/*/*/*'.format(input_data)\n",
    "\n",
    "    # read log data file\n",
    "    df = spark.read.json(log_data)\n",
    "    \n",
    "    # filter by actions for song plays\n",
    "    df = df.filter(col('page') == 'NextSong')\n",
    "\n",
    "    # extract columns for users table    \n",
    "    users_table = df.select(col('userId').alias('user_id'), \\\n",
    "                          col('firstName').alias('first_name'), \\\n",
    "                          col('lastName').alias('last_name'), \\\n",
    "                          col('gender'), \\\n",
    "                          col('level')) \\\n",
    "                    .withColumn('user_id', col('user_id').cast('int')) \\\n",
    "                    .dropDuplicates()\n",
    "    \n",
    "    # write users table to parquet files\n",
    "    users_table.write.parquet(path='{}/users'.format(output_data), mode='overwrite')\n",
    "\n",
    "    # create timestamp column from original timestamp column\n",
    "    get_timestamp = udf(lambda x: datetime.fromtimestamp(x / 1e3), TimestampType())\n",
    "    df = df.withColumn('dt', get_timestamp('ts'))\n",
    "    \n",
    "    # extract columns to create time table\n",
    "    time_table = df.withColumn('hour', hour('dt')) \\\n",
    "        .withColumn('day', dayofmonth('dt')) \\\n",
    "        .withColumn('week', weekofyear('dt')) \\\n",
    "        .withColumn('month', month('dt')) \\\n",
    "        .withColumn('year', year('dt')) \\\n",
    "        .withColumn('weekday', date_format('dt', 'F').cast('int')) \\\n",
    "        .select(col('ts').alias('start_time'), 'hour', 'day', 'week', 'month', 'year', 'weekday') \\\n",
    "        .dropDuplicates()\n",
    "    \n",
    "    # write time table to parquet files partitioned by year and month\n",
    "    time_table.write.parquet(path='{}/time'.format(output_data), mode='overwrite', partitionBy=['year', 'month'])\n",
    "\n",
    "    # read in song data to use for songplays table\n",
    "    song_df = spark.read.json('{}/song_data/*/*/*/*'.format(input_data))\n",
    "\n",
    "    # extract columns from joined song and log datasets to create songplays table\n",
    "    window = Window.orderBy(col('ts'))\n",
    "    songplays_table = df.join(song_df, (df.song == song_df.title) & (df.length == song_df.duration) & (df.artist == song_df.artist_name), how='left') \\\n",
    "                        .withColumn('songplay_id', row_number().over(window)) \\\n",
    "                        .select(col('songplay_id'), \\\n",
    "                                col('ts').alias('start_time'), \\\n",
    "                                col('userId').cast('int').alias('user_id'), \\\n",
    "                                col('level'), \\\n",
    "                                col('song_id'), \\\n",
    "                                col('artist_id'), \\\n",
    "                                col('sessionId').cast('int').alias('session_id'), \\\n",
    "                                col('location'), \\\n",
    "                                col('userAgent').alias('user_agent'))\n",
    "\n",
    "    # write songplays table to parquet files\n",
    "    songplays_table.write.parquet(path='{}/songplays'.format(output_data), mode='overwrite')"
   ]
  },
  {
   "cell_type": "code",
   "execution_count": null,
   "id": "a71143a3-6e81-4047-8c43-6ef78b0caaf8",
   "metadata": {
    "execution": {
     "iopub.execute_input": "2022-03-07T14:42:12.118353Z",
     "iopub.status.busy": "2022-03-07T14:42:12.117925Z"
    },
    "tags": []
   },
   "outputs": [
    {
     "data": {
      "application/vnd.jupyter.widget-view+json": {
       "model_id": "91251a2a4a8548b79cdcfb9539376655",
       "version_major": 2,
       "version_minor": 0
      },
      "text/plain": [
       "VBox()"
      ]
     },
     "metadata": {},
     "output_type": "display_data"
    },
    {
     "data": {
      "application/vnd.jupyter.widget-view+json": {
       "model_id": "1a94083a171549afb8fb67021b8fd90f",
       "version_major": 2,
       "version_minor": 0
      },
      "text/plain": [
       "FloatProgress(value=0.0, bar_style='info', description='Progress:', layout=Layout(height='25px', width='50%'),…"
      ]
     },
     "metadata": {},
     "output_type": "display_data"
    }
   ],
   "source": [
    "spark = create_spark_session()\n",
    "input_data = \"s3a://udacity-dend\"\n",
    "output_data = \"s3://huynv26-udacity/datalake\"\n",
    "\n",
    "process_song_data(spark, input_data, output_data)\n",
    "process_log_data(spark, input_data, output_data)"
   ]
  }
 ],
 "metadata": {
  "kernelspec": {
   "display_name": "PySpark",
   "language": "",
   "name": "pysparkkernel"
  },
  "language_info": {
   "codemirror_mode": {
    "name": "python",
    "version": 2
   },
   "mimetype": "text/x-python",
   "name": "pyspark",
   "pygments_lexer": "python2"
  }
 },
 "nbformat": 4,
 "nbformat_minor": 5
}
